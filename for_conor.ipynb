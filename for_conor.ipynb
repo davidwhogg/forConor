{
 "cells": [
  {
   "cell_type": "code",
   "execution_count": null,
   "metadata": {},
   "outputs": [],
   "source": [
    "!pip install finufft"
   ]
  },
  {
   "cell_type": "code",
   "execution_count": null,
   "metadata": {
    "id": "Kf7UEaS6-tfP"
   },
   "outputs": [],
   "source": [
    "import numpy as np\n",
    "from astropy.table import Table\n",
    "import scipy.sparse.linalg as sp\n",
    "import finufft\n",
    "import pylab as plt"
   ]
  },
  {
   "cell_type": "code",
   "execution_count": null,
   "metadata": {
    "id": "6NSX8Jdi_O06"
   },
   "outputs": [],
   "source": [
    "IMAX = 40 # maximum integer wave number\n",
    "DELTAK = 2. * np.pi / 10000.0 # wave number spacing in inverse pixels"
   ]
  },
  {
   "cell_type": "code",
   "execution_count": null,
   "metadata": {
    "id": "1o12FRAKBH__"
   },
   "outputs": [],
   "source": [
    "data = Table.read(\"dxyPixels.csv\", format='ascii.csv')"
   ]
  },
  {
   "cell_type": "code",
   "execution_count": null,
   "metadata": {
    "colab": {
     "base_uri": "https://localhost:8080/",
     "height": 283
    },
    "id": "w7izCa3g6Ioe",
    "outputId": "d476fbb5-ed50-4d93-f2a9-95561b59854b"
   },
   "outputs": [],
   "source": [
    "plt.plot(data[\"x\"], data[\"y\"], \"k.\")"
   ]
  },
  {
   "cell_type": "code",
   "execution_count": null,
   "metadata": {
    "id": "oHz8iveG6fRc"
   },
   "outputs": [],
   "source": [
    "# unpack the data\n",
    "xs = data[\"x\"]\n",
    "ys = data[\"y\"]\n",
    "dxs = data[\"dx\"]\n",
    "dys = data[\"dy\"]\n",
    "n = len(xs)"
   ]
  },
  {
   "cell_type": "code",
   "execution_count": null,
   "metadata": {},
   "outputs": [],
   "source": [
    "# rescale position inputs so they are in the range -pi, pi.\n",
    "shiftx = np.mean(xs)\n",
    "scalexy = np.pi / 2600.\n",
    "sxs = (xs - shiftx) * scalexy\n",
    "shifty = np.mean(ys)\n",
    "sys = (ys - shifty) * scalexy\n",
    "print(np.min(sxs), np.max(sxs), np.min(sys), np.max(sys))"
   ]
  },
  {
   "cell_type": "code",
   "execution_count": null,
   "metadata": {},
   "outputs": [],
   "source": [
    "# Make least-squares (pseudo-inverse) code for finufft2d2\n",
    "\n",
    "def nufft2d2_pinv(x, y, c, Ns):\n",
    "    \"\"\"\n",
    "    The pseudo-inverse of `nufft2d2()`.\n",
    "  \n",
    "    ## Inputs:\n",
    "    - `x, y`  positions in 2D (ought to be in [-pi, pi] or so)\n",
    "    - `c`     data\n",
    "    - `Ns`    2-tuple `(Nx, Ny)`\n",
    "  \n",
    "    ## Outputs:\n",
    "    - `fhat`  best-fit Fourier coefficients\n",
    "  \n",
    "    ## Notes:\n",
    "    - This finds the minimum-least-squares amplitudes f to explain data c.\n",
    "    \n",
    "    ## Bugs:\n",
    "    - Completely untested\n",
    "    \"\"\"\n",
    "    M, N = len(x), Ns[0] * Ns[1]\n",
    "    f0 = finufft.nufft2d1(x, y, c, Ns, eps=FEPS).flatten()\n",
    "    R = lambda f: finufft.nufft2d2(x, y, f.reshape(Ns), eps=FEPS)\n",
    "    RT = lambda c: finufft.nufft2d1(x, y, c, Ns, eps=FEPS).flatten()\n",
    "    RR = sp.LinearOperator((M, N), matvec=R, rmatvec=RT, dtype=complex)\n",
    "    res = sp.lsqr(RR, c, x0=f0, atol=ATOL, btol=BTOL)\n",
    "    print(\"nufft2d2_pinv: completed in\", res[2], \"iterations\")\n",
    "    return res[0].reshape(Ns)\n",
    "\n",
    "FEPS = 1e-8\n",
    "ATOL = 1e-8\n",
    "BTOL = 1e-8"
   ]
  },
  {
   "cell_type": "code",
   "execution_count": null,
   "metadata": {},
   "outputs": [],
   "source": [
    "# make train-test split\n",
    "np.random.seed(42)\n",
    "rands = np.random.uniform(size=n)\n",
    "train = rands <= 0.8\n",
    "test = rands > 0.8\n",
    "print(np.sum(train), np.sum(test))"
   ]
  },
  {
   "cell_type": "code",
   "execution_count": null,
   "metadata": {},
   "outputs": [],
   "source": [
    "# do the least-squares fit for the dxs in the training set\n",
    "Nx, Ny = 80, 80\n",
    "fhat_dxs = nufft2d2_pinv(sxs[train], sys[train], dxs[train].astype(complex), (Nx, Ny))"
   ]
  },
  {
   "cell_type": "code",
   "execution_count": null,
   "metadata": {},
   "outputs": [],
   "source": [
    "# Now predict the dxs in test set\n",
    "dxs_hat = finufft.nufft2d2(sxs[test], sys[test], fhat_dxs).real"
   ]
  },
  {
   "cell_type": "code",
   "execution_count": null,
   "metadata": {},
   "outputs": [],
   "source": [
    "# Now compare!\n",
    "print(\"original dx (test set) RMS:\", np.sqrt(np.mean(dxs[test] ** 2)))\n",
    "print(\"dx - dx_hat (test set) RMS:\", np.sqrt(np.mean((dxs[test] - dxs_hat) ** 2)))\n",
    "print(\"dx - dx_hat (test set) MAD:\", np.sqrt(np.median((dxs[test] - dxs_hat) ** 2)))"
   ]
  },
  {
   "cell_type": "code",
   "execution_count": null,
   "metadata": {},
   "outputs": [],
   "source": [
    "# do the least-squares fit for the dys in the training set\n",
    "fhat_dys = nufft2d2_pinv(sxs[train], sys[train], dys[train].astype(complex), (Nx, Ny))"
   ]
  },
  {
   "cell_type": "code",
   "execution_count": null,
   "metadata": {},
   "outputs": [],
   "source": [
    "# Now predict the dxs in test set\n",
    "dys_hat = finufft.nufft2d2(sxs[test], sys[test], fhat_dys).real"
   ]
  },
  {
   "cell_type": "code",
   "execution_count": null,
   "metadata": {},
   "outputs": [],
   "source": [
    "# Now compare!\n",
    "print(\"original dy (test set) RMS:\", np.sqrt(np.mean(dys[test] ** 2)))\n",
    "print(\"dy - dy_hat (test set) RMS:\", np.sqrt(np.mean((dys[test] - dys_hat) ** 2)))\n",
    "print(\"dy - dy_hat (test set) MAD:\", np.sqrt(np.median((dys[test] - dys_hat) ** 2)))"
   ]
  }
 ],
 "metadata": {
  "colab": {
   "name": "for_conor.ipynb",
   "provenance": []
  },
  "kernelspec": {
   "display_name": "Python 3",
   "language": "python",
   "name": "python3"
  },
  "language_info": {
   "codemirror_mode": {
    "name": "ipython",
    "version": 3
   },
   "file_extension": ".py",
   "mimetype": "text/x-python",
   "name": "python",
   "nbconvert_exporter": "python",
   "pygments_lexer": "ipython3",
   "version": "3.7.4"
  }
 },
 "nbformat": 4,
 "nbformat_minor": 1
}
