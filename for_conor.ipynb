{
 "cells": [
  {
   "cell_type": "code",
   "execution_count": null,
   "metadata": {
    "id": "Kf7UEaS6-tfP"
   },
   "outputs": [],
   "source": [
    "import numpy as np\n",
    "from astropy.table import Table\n",
    "import pylab as plt"
   ]
  },
  {
   "cell_type": "code",
   "execution_count": null,
   "metadata": {
    "id": "6NSX8Jdi_O06"
   },
   "outputs": [],
   "source": [
    "IMAX = 32 # maximum integer wave number\n",
    "DELTAK = 2. * np.pi / 10000.0 # wave number spacing in inverse pixels"
   ]
  },
  {
   "cell_type": "code",
   "execution_count": null,
   "metadata": {
    "id": "6LmVwCJJ_HiP"
   },
   "outputs": [],
   "source": [
    "# functions to set up design matrices\n",
    "\n",
    "def fourier_functions(xs, ys):\n",
    "    n = len(xs)\n",
    "    assert len(ys) == n\n",
    "    fxs = np.zeros((n, IMAX * 2 + 2))\n",
    "    fys = np.zeros((n, IMAX * 2 + 2))\n",
    "    iis = np.zeros(IMAX * 2 + 2).astype(int)\n",
    "    for i in range(IMAX+1):\n",
    "        fxs[:, i * 2] = np.cos(i * DELTAK * xs)\n",
    "        fys[:, i * 2] = np.cos(i * DELTAK * ys)\n",
    "        iis[i * 2] = i\n",
    "        fxs[:, i * 2 + 1] = np.sin((i + 1) * DELTAK * xs)\n",
    "        fys[:, i * 2 + 1] = np.sin((i + 1) * DELTAK * ys)\n",
    "        iis[i * 2 + 1] = i + 1\n",
    "    return fxs, fys, iis\n",
    "\n",
    "def design_matrix(xs, ys):\n",
    "    fxs, fys, iis = fourier_functions(xs, ys)\n",
    "    n, p = fxs.shape\n",
    "    Xbig = (fxs[:, :, None] * fys[:, None, :]).reshape((n, p * p))\n",
    "    i2plusj2 = (iis[:, None] ** 2 + iis[None, :] ** 2).reshape(p * p)\n",
    "    return Xbig[:, i2plusj2 <= IMAX ** 2]"
   ]
  },
  {
   "cell_type": "code",
   "execution_count": null,
   "metadata": {
    "id": "1o12FRAKBH__"
   },
   "outputs": [],
   "source": [
    "data = Table.read(\"dxyPixels.csv\", format='ascii.csv')"
   ]
  },
  {
   "cell_type": "code",
   "execution_count": null,
   "metadata": {
    "colab": {
     "base_uri": "https://localhost:8080/",
     "height": 283
    },
    "id": "w7izCa3g6Ioe",
    "outputId": "d476fbb5-ed50-4d93-f2a9-95561b59854b"
   },
   "outputs": [],
   "source": [
    "plt.plot(data[\"x\"], data[\"y\"], \"k.\")"
   ]
  },
  {
   "cell_type": "code",
   "execution_count": null,
   "metadata": {
    "id": "oHz8iveG6fRc"
   },
   "outputs": [],
   "source": [
    "xs = data[\"x\"]\n",
    "ys = data[\"y\"]\n",
    "dxs = data[\"dx\"]\n",
    "dys = data[\"dy\"]"
   ]
  },
  {
   "cell_type": "code",
   "execution_count": null,
   "metadata": {},
   "outputs": [],
   "source": [
    "xs.shape"
   ]
  },
  {
   "cell_type": "code",
   "execution_count": null,
   "metadata": {
    "id": "k39_igFP6wv4"
   },
   "outputs": [],
   "source": [
    "X = design_matrix(xs, ys)\n",
    "X.shape"
   ]
  },
  {
   "cell_type": "code",
   "execution_count": null,
   "metadata": {},
   "outputs": [],
   "source": [
    "n, p = X.shape"
   ]
  },
  {
   "cell_type": "code",
   "execution_count": null,
   "metadata": {},
   "outputs": [],
   "source": [
    "np.random.seed(42)\n",
    "rands = np.random.uniform(size=n)"
   ]
  },
  {
   "cell_type": "code",
   "execution_count": null,
   "metadata": {},
   "outputs": [],
   "source": [
    "train = rands <= 0.8\n",
    "test = rands > 0.8\n",
    "print(np.sum(train), np.sum(test))"
   ]
  },
  {
   "cell_type": "code",
   "execution_count": null,
   "metadata": {},
   "outputs": [],
   "source": [
    "beta_x, resids, rank, s = np.linalg.lstsq(X[train], dxs[train], rcond=None)\n",
    "dxs_hat = X[test] @ beta_x\n",
    "print(rank, min(s), max(s))"
   ]
  },
  {
   "cell_type": "code",
   "execution_count": null,
   "metadata": {},
   "outputs": [],
   "source": [
    "print(\"original dx (test set) RMS:\", np.sqrt(np.mean(dxs[test] ** 2)))\n",
    "print(\"dx - dx_hat (test set) RMS:\", np.sqrt(np.mean((dxs[test] - dxs_hat) ** 2)))\n",
    "print(\"dx - dx_hat (test set) MAD:\", np.sqrt(np.median((dxs[test] - dxs_hat) ** 2)))"
   ]
  },
  {
   "cell_type": "code",
   "execution_count": null,
   "metadata": {},
   "outputs": [],
   "source": [
    "beta_y, resids, rank, s = np.linalg.lstsq(X[train], dys[train], rcond=None)\n",
    "dys_hat = X[test] @ beta_y\n",
    "print(rank, min(s), max(s))"
   ]
  },
  {
   "cell_type": "code",
   "execution_count": null,
   "metadata": {},
   "outputs": [],
   "source": [
    "print(\"original dy (test set) RMS:\", np.sqrt(np.mean(dys[test] ** 2)))\n",
    "print(\"dy - dy_hat (test set) RMS:\", np.sqrt(np.mean((dys[test] - dys_hat) ** 2)))\n",
    "print(\"dy - dy_hat (test set) MAD:\", np.sqrt(np.median((dys[test] - dys_hat) ** 2)))"
   ]
  },
  {
   "cell_type": "code",
   "execution_count": null,
   "metadata": {},
   "outputs": [],
   "source": []
  }
 ],
 "metadata": {
  "colab": {
   "name": "for_conor.ipynb",
   "provenance": []
  },
  "kernelspec": {
   "display_name": "Python 3",
   "language": "python",
   "name": "python3"
  },
  "language_info": {
   "codemirror_mode": {
    "name": "ipython",
    "version": 3
   },
   "file_extension": ".py",
   "mimetype": "text/x-python",
   "name": "python",
   "nbconvert_exporter": "python",
   "pygments_lexer": "ipython3",
   "version": "3.7.4"
  }
 },
 "nbformat": 4,
 "nbformat_minor": 1
}
